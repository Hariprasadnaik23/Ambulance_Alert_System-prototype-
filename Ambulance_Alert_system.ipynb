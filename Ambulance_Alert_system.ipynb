{
 "cells": [
  {
   "cell_type": "code",
   "execution_count": 7,
   "id": "479f4ad5",
   "metadata": {},
   "outputs": [],
   "source": [
    "import os"
   ]
  },
  {
   "cell_type": "code",
   "execution_count": 8,
   "id": "21586579",
   "metadata": {},
   "outputs": [
    {
     "name": "stdout",
     "output_type": "stream",
     "text": [
      "hsqc opwz enjc ixjd\n",
      "Ambulance Emergency Alert System\n",
      "Enter Ambulance ID: ap07-23333\n",
      "Enter Current Location: Guntur\n",
      "Enter Destination: Vijayawada\n",
      "Enter Estimated Time of Arrival (in minutes): 50\n",
      "Notification sent successfully!\n"
     ]
    }
   ],
   "source": [
    "import smtplib\n",
    "from email.mime.text import MIMEText\n",
    "from email.mime.multipart import MIMEMultipart\n",
    "\n",
    "EMAIL_ADDRESS = \"itsstudentdemomail@gmail.com\"\n",
    "EMAIL_PASSWORD = os.getenv('EMAIL_PASSWORD')\n",
    "print(EMAIL_PASSWORD)\n",
    "\n",
    "TRAFFIC_POLICE_EMAILS = [\"21031a0523@gmail.com\", \"hariprasadnaikamgothu@gmail.com\"]\n",
    "\n",
    "def get_ambulance_details():\n",
    "    ambulance_id = input(\"Enter Ambulance ID: \")\n",
    "    location = input(\"Enter Current Location: \")\n",
    "    destination = input(\"Enter Destination: \")\n",
    "    eta = input(\"Enter Estimated Time of Arrival (in minutes): \")\n",
    "\n",
    "    return {\n",
    "        'ambulance_id': ambulance_id,\n",
    "        'location': location,\n",
    "        'destination': destination,\n",
    "        'eta': eta\n",
    "    }\n",
    "\n",
    "def send_email_notification(ambulance_details):\n",
    "    subject = f\"Urgent: Ambulance Alert - {ambulance_details['ambulance_id']}\"\n",
    "    body = (f\"An ambulance is on the way and requires traffic clearance.\\n\\n\"\n",
    "            f\"Ambulance ID: {ambulance_details['ambulance_id']}\\n\"\n",
    "            f\"Current Location: {ambulance_details['location']}\\n\"\n",
    "            f\"Destination: {ambulance_details['destination']}\\n\"\n",
    "            f\"Estimated Time of Arrival: {ambulance_details['eta']} minutes\\n\\n\"\n",
    "            f\"Please take the necessary actions to clear the route.\")\n",
    "    \n",
    "    msg = MIMEMultipart()\n",
    "    msg['From'] = EMAIL_ADDRESS\n",
    "    msg['To'] = \", \".join(TRAFFIC_POLICE_EMAILS)\n",
    "    msg['Subject'] = subject\n",
    "    msg.attach(MIMEText(body, 'plain'))\n",
    "\n",
    "    try:\n",
    "        with smtplib.SMTP('smtp.gmail.com', 587) as server:\n",
    "            server.starttls()\n",
    "            server.login(EMAIL_ADDRESS, EMAIL_PASSWORD)\n",
    "            text = msg.as_string()\n",
    "            server.sendmail(EMAIL_ADDRESS, TRAFFIC_POLICE_EMAILS, text)\n",
    "        print(\"Notification sent successfully!\")\n",
    "    except Exception as e:\n",
    "        print(f\"Failed to send email notification: {e}\")\n",
    "\n",
    "# Main function to run the application\n",
    "def main():\n",
    "    print(\"Ambulance Emergency Alert System\")\n",
    "    ambulance_details = get_ambulance_details()\n",
    "    send_email_notification(ambulance_details)\n",
    "\n",
    "if __name__ == \"__main__\":\n",
    "    main()\n"
   ]
  }
 ],
 "metadata": {
  "kernelspec": {
   "display_name": "Python 3 (ipykernel)",
   "language": "python",
   "name": "python3"
  },
  "language_info": {
   "codemirror_mode": {
    "name": "ipython",
    "version": 3
   },
   "file_extension": ".py",
   "mimetype": "text/x-python",
   "name": "python",
   "nbconvert_exporter": "python",
   "pygments_lexer": "ipython3",
   "version": "3.10.9"
  }
 },
 "nbformat": 4,
 "nbformat_minor": 5
}
